{
 "cells": [
  {
   "cell_type": "code",
   "execution_count": 2,
   "metadata": {},
   "outputs": [],
   "source": [
    "import pandas as pd\n",
    "from dateparser.search import search_dates\n",
    "import seaborn as sns\n",
    "import glob\n",
    "dataf = 'SDcountySituation-{}.csv'\n",
    "tab_hist = {}"
   ]
  },
  {
   "cell_type": "code",
   "execution_count": 58,
   "metadata": {},
   "outputs": [
    {
     "name": "stdout",
     "output_type": "stream",
     "text": [
      "2020-03-19\n",
      "2020-03-20\n",
      "2020-03-21\n",
      "2020-03-22\n",
      "2020-03-23\n"
     ]
    }
   ],
   "source": [
    "# Don't run this anymore!! We only needed it once.\n",
    "# I used wayback machine to collect the county data for the dates before I began this project, starting with first day over 100 cases\n",
    "# for some reason the wayaback and the current web scrape produce different numbers of tables\n",
    "'''get_historical_data = [\n",
    "    'https://web.archive.org/web/20200320184055/https://www.sandiegocounty.gov/content/sdc/hhsa/programs/phs/community_epidemiology/dc/2019-nCoV/status.html',\n",
    "    'https://web.archive.org/web/20200321141257/https://www.sandiegocounty.gov/content/sdc/hhsa/programs/phs/community_epidemiology/dc/2019-nCoV/status.html',\n",
    "    'https://web.archive.org/web/20200322080211/https://www.sandiegocounty.gov/content/sdc/hhsa/programs/phs/community_epidemiology/dc/2019-nCoV/status.html',\n",
    "    'https://web.archive.org/web/20200323094801/https://www.sandiegocounty.gov/content/sdc/hhsa/programs/phs/community_epidemiology/dc/2019-nCoV/status.html',\n",
    "    'https://web.archive.org/web/20200324003021/https://www.sandiegocounty.gov/content/sdc/hhsa/programs/phs/community_epidemiology/dc/2019-nCoV/status.html'\n",
    "]\n",
    "\n",
    "for link in get_historical_data:\n",
    "    tab = pd.read_html(link)\n",
    "    #comes down as a list of each column seperately, with the header the same in each column-table\n",
    "    table = tab[2].drop(0)\n",
    "    # setup header and index\n",
    "    cs =  table.iloc[0,:].to_list()\n",
    "    cs[0] = 'index'\n",
    "    table.columns = cs\n",
    "    table = table.drop(1).set_index('index')\n",
    "    # get todays date from that header we threw away on each column\n",
    "    dt = search_dates(tab[2].iloc[0,0])[-1][1]\n",
    "    today = dt.strftime('%Y-%m-%d')\n",
    "    # theres some variability in nomenclature to deal with from day to day\n",
    "    idx = table.index.to_series()\n",
    "    idx[ 'Hospitalized' == idx ] = 'Hospitalizations'\n",
    "    table.index = idx\n",
    "    if not 'Intensive Care' in idx:\n",
    "        table.loc['Intensive Care',:] = 0\n",
    "        \n",
    "    print(today)\n",
    "    # record todays data for posterity\n",
    "    table.to_csv(dataf.format(today))\n",
    "    tab_hist[today] = table\n",
    "    '''"
   ]
  },
  {
   "cell_type": "code",
   "execution_count": 126,
   "metadata": {},
   "outputs": [
    {
     "name": "stdout",
     "output_type": "stream",
     "text": [
      "2020-03-22\n",
      "2020-03-23\n",
      "2020-03-21\n",
      "2020-03-20\n",
      "2020-03-24\n",
      "2020-03-19\n"
     ]
    }
   ],
   "source": [
    "# From now on we can just load the data that's already in the repo\n",
    "files = glob.glob('*.csv') # gets all .csv filenames in directory\n",
    "for afile in files:\n",
    "    dt = afile[18:28]\n",
    "    print(dt)\n",
    "    tab_hist[dt] = pd.read_csv(afile,index_col=0,header=0)"
   ]
  },
  {
   "cell_type": "code",
   "execution_count": 3,
   "metadata": {},
   "outputs": [
    {
     "data": {
      "text/html": [
       "<div>\n",
       "<style scoped>\n",
       "    .dataframe tbody tr th:only-of-type {\n",
       "        vertical-align: middle;\n",
       "    }\n",
       "\n",
       "    .dataframe tbody tr th {\n",
       "        vertical-align: top;\n",
       "    }\n",
       "\n",
       "    .dataframe thead th {\n",
       "        text-align: right;\n",
       "    }\n",
       "</style>\n",
       "<table border=\"1\" class=\"dataframe\">\n",
       "  <thead>\n",
       "    <tr style=\"text-align: right;\">\n",
       "      <th></th>\n",
       "      <th>San Diego County  Residents</th>\n",
       "      <th>Non-San  Diego County Residents</th>\n",
       "      <th>Total</th>\n",
       "    </tr>\n",
       "    <tr>\n",
       "      <th>index</th>\n",
       "      <th></th>\n",
       "      <th></th>\n",
       "      <th></th>\n",
       "    </tr>\n",
       "  </thead>\n",
       "  <tbody>\n",
       "    <tr>\n",
       "      <td>Total Positives</td>\n",
       "      <td>226</td>\n",
       "      <td>16</td>\n",
       "      <td>242</td>\n",
       "    </tr>\n",
       "    <tr>\n",
       "      <td>Age Groups</td>\n",
       "      <td>NaN</td>\n",
       "      <td>NaN</td>\n",
       "      <td>NaN</td>\n",
       "    </tr>\n",
       "    <tr>\n",
       "      <td>0-9 years</td>\n",
       "      <td>2</td>\n",
       "      <td>0</td>\n",
       "      <td>2</td>\n",
       "    </tr>\n",
       "    <tr>\n",
       "      <td>10-19 years</td>\n",
       "      <td>2</td>\n",
       "      <td>1</td>\n",
       "      <td>3</td>\n",
       "    </tr>\n",
       "    <tr>\n",
       "      <td>20-29 years</td>\n",
       "      <td>46</td>\n",
       "      <td>8</td>\n",
       "      <td>54</td>\n",
       "    </tr>\n",
       "    <tr>\n",
       "      <td>30-39 years</td>\n",
       "      <td>63</td>\n",
       "      <td>3</td>\n",
       "      <td>66</td>\n",
       "    </tr>\n",
       "    <tr>\n",
       "      <td>40-49 years</td>\n",
       "      <td>41</td>\n",
       "      <td>2</td>\n",
       "      <td>43</td>\n",
       "    </tr>\n",
       "    <tr>\n",
       "      <td>50-59 years</td>\n",
       "      <td>33</td>\n",
       "      <td>0</td>\n",
       "      <td>33</td>\n",
       "    </tr>\n",
       "    <tr>\n",
       "      <td>60-69 years</td>\n",
       "      <td>17</td>\n",
       "      <td>1</td>\n",
       "      <td>18</td>\n",
       "    </tr>\n",
       "    <tr>\n",
       "      <td>70-79 years</td>\n",
       "      <td>15</td>\n",
       "      <td>1</td>\n",
       "      <td>16</td>\n",
       "    </tr>\n",
       "    <tr>\n",
       "      <td>80+ years</td>\n",
       "      <td>7</td>\n",
       "      <td>0</td>\n",
       "      <td>7</td>\n",
       "    </tr>\n",
       "    <tr>\n",
       "      <td>Age Unknown</td>\n",
       "      <td>0</td>\n",
       "      <td>0</td>\n",
       "      <td>0</td>\n",
       "    </tr>\n",
       "    <tr>\n",
       "      <td>Gender</td>\n",
       "      <td>NaN</td>\n",
       "      <td>NaN</td>\n",
       "      <td>NaN</td>\n",
       "    </tr>\n",
       "    <tr>\n",
       "      <td>Female</td>\n",
       "      <td>80</td>\n",
       "      <td>5</td>\n",
       "      <td>85</td>\n",
       "    </tr>\n",
       "    <tr>\n",
       "      <td>Male</td>\n",
       "      <td>146</td>\n",
       "      <td>11</td>\n",
       "      <td>157</td>\n",
       "    </tr>\n",
       "    <tr>\n",
       "      <td>Unknown</td>\n",
       "      <td>0</td>\n",
       "      <td>0</td>\n",
       "      <td>0</td>\n",
       "    </tr>\n",
       "    <tr>\n",
       "      <td>Hospitalizations</td>\n",
       "      <td>44</td>\n",
       "      <td>1</td>\n",
       "      <td>45</td>\n",
       "    </tr>\n",
       "    <tr>\n",
       "      <td>Intensive Care</td>\n",
       "      <td>20</td>\n",
       "      <td>1</td>\n",
       "      <td>21</td>\n",
       "    </tr>\n",
       "    <tr>\n",
       "      <td>Deaths</td>\n",
       "      <td>2</td>\n",
       "      <td>0</td>\n",
       "      <td>2</td>\n",
       "    </tr>\n",
       "  </tbody>\n",
       "</table>\n",
       "</div>"
      ],
      "text/plain": [
       "                 San Diego County  Residents Non-San  Diego County Residents  \\\n",
       "index                                                                          \n",
       "Total Positives                          226                              16   \n",
       "Age Groups                               NaN                             NaN   \n",
       "0-9 years                                  2                               0   \n",
       "10-19 years                                2                               1   \n",
       "20-29 years                               46                               8   \n",
       "30-39 years                               63                               3   \n",
       "40-49 years                               41                               2   \n",
       "50-59 years                               33                               0   \n",
       "60-69 years                               17                               1   \n",
       "70-79 years                               15                               1   \n",
       "80+ years                                  7                               0   \n",
       "Age Unknown                                0                               0   \n",
       "Gender                                   NaN                             NaN   \n",
       "Female                                    80                               5   \n",
       "Male                                     146                              11   \n",
       "Unknown                                    0                               0   \n",
       "Hospitalizations                          44                               1   \n",
       "Intensive Care                            20                               1   \n",
       "Deaths                                     2                               0   \n",
       "\n",
       "                 Total  \n",
       "index                   \n",
       "Total Positives    242  \n",
       "Age Groups         NaN  \n",
       "0-9 years            2  \n",
       "10-19 years          3  \n",
       "20-29 years         54  \n",
       "30-39 years         66  \n",
       "40-49 years         43  \n",
       "50-59 years         33  \n",
       "60-69 years         18  \n",
       "70-79 years         16  \n",
       "80+ years            7  \n",
       "Age Unknown          0  \n",
       "Gender             NaN  \n",
       "Female              85  \n",
       "Male               157  \n",
       "Unknown              0  \n",
       "Hospitalizations    45  \n",
       "Intensive Care      21  \n",
       "Deaths               2  "
      ]
     },
     "execution_count": 3,
     "metadata": {},
     "output_type": "execute_result"
    }
   ],
   "source": [
    "# Run me every day! Website updates once a day at around 4pm\n",
    "tab = pd.read_html('https://www.sandiegocounty.gov/content/sdc/hhsa/programs/phs/community_epidemiology/dc/2019-nCoV/status.html')\n",
    "#comes down as a list of each column seperately, with the header the same in each column-table\n",
    "tabs = [ x.drop(0) for x in tab]\n",
    "table = pd.concat(tabs)\n",
    "# setup header and index\n",
    "cs =  table.iloc[0,:].to_list()\n",
    "cs[0] = 'index'\n",
    "table.columns = cs\n",
    "table = table.drop(1).set_index('index')\n",
    "# get todays date from that header we threw away on each column\n",
    "dt = search_dates(tab[0][0][0])[-1][1]\n",
    "today = dt.strftime('%Y-%m-%d')\n",
    "# record todays data for posterity\n",
    "table.to_csv(dataf.format(today))\n",
    "tab_hist[today] = table\n",
    "\n",
    "table"
   ]
  },
  {
   "cell_type": "code",
   "execution_count": 59,
   "metadata": {},
   "outputs": [],
   "source": [
    "cases = pd.Series({key:int(value.loc['Total Positives','Total']) for key,value in tab_hist.items()}).sort_index()\n",
    "hospitalizations = pd.Series({key:int(value.loc['Hospitalizations','Total']) for key,value in tab_hist.items()}).sort_index()\n",
    "icu = pd.Series({key:int(value.loc['Intensive Care','Total']) for key,value in tab_hist.items()}).sort_index()\n",
    "deaths = pd.Series({key:int(value.loc['Deaths','Total']) for key,value in tab_hist.items()}).sort_index()"
   ]
  },
  {
   "cell_type": "code",
   "execution_count": 111,
   "metadata": {},
   "outputs": [],
   "source": [
    "sns.set_style('darkgrid')\n",
    "colors = sns.color_palette()\n",
    "import matplotlib.pyplot as plt"
   ]
  },
  {
   "cell_type": "code",
   "execution_count": 104,
   "metadata": {},
   "outputs": [
    {
     "data": {
      "image/png": "[encoded data removed]",
      "text/plain": [
       "<Figure size 432x288 with 1 Axes>"
      ]
     },
     "metadata": {},
     "output_type": "display_data"
    }
   ],
   "source": [
    "cases.plot(title='Confirmed COVID-19 cases in San Diego county',color=colors[0]);"
   ]
  },
  {
   "cell_type": "code",
   "execution_count": 110,
   "metadata": {},
   "outputs": [
    {
     "data": {
      "image/png": "[encoded data removed]",
      "text/plain": [
       "<Figure size 432x288 with 1 Axes>"
      ]
     },
     "metadata": {},
     "output_type": "display_data"
    }
   ],
   "source": [
    "hospitalizations.plot(title='COVID-19 hospitalizations in San Diego county', color=colors[6]);"
   ]
  },
  {
   "cell_type": "code",
   "execution_count": 106,
   "metadata": {},
   "outputs": [
    {
     "data": {
      "image/png": "[encoded data removed]",
      "text/plain": [
       "<Figure size 432x288 with 1 Axes>"
      ]
     },
     "metadata": {},
     "output_type": "display_data"
    }
   ],
   "source": [
    "icu.plot(title='COVID-19 ICU patients in San Diego county', color=colors[1]);"
   ]
  },
  {
   "cell_type": "code",
   "execution_count": 107,
   "metadata": {},
   "outputs": [
    {
     "data": {
      "image/png": "[encoded data removed]",
      "text/plain": [
       "<Figure size 432x288 with 1 Axes>"
      ]
     },
     "metadata": {},
     "output_type": "display_data"
    }
   ],
   "source": [
    "deaths.plot(title='COVID-19 deaths in San Diego county', color=colors[3]);"
   ]
  },
  {
   "cell_type": "code",
   "execution_count": null,
   "metadata": {},
   "outputs": [],
   "source": []
  }
 ],
 "metadata": {
  "kernelspec": {
   "display_name": "Python 3",
   "language": "python",
   "name": "python3"
  },
  "language_info": {
   "codemirror_mode": {
    "name": "ipython",
    "version": 3
   },
   "file_extension": ".py",
   "mimetype": "text/x-python",
   "name": "python",
   "nbconvert_exporter": "python",
   "pygments_lexer": "ipython3",
   "version": "3.7.4"
  }
 },
 "nbformat": 4,
 "nbformat_minor": 2
}
