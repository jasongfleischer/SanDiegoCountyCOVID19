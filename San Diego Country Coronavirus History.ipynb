{
 "cells": [
  {
   "cell_type": "code",
   "execution_count": 709,
   "metadata": {},
   "outputs": [],
   "source": [
    "import pandas as pd\n",
    "from dateparser.search import search_dates\n",
    "import seaborn as sns\n",
    "import glob\n",
    "from tabula import read_pdf\n",
    "import numpy as np\n",
    "\n",
    "dataf = 'Data/SDcountySituation-{}.csv'\n",
    "locf = 'Data/SDcountyLocations-{}.csv'\n",
    "zipf = 'Data/SDcountyZipcodes-{}.csv'\n",
    "\n",
    "tab_hist = {}"
   ]
  },
  {
   "cell_type": "code",
   "execution_count": 710,
   "metadata": {},
   "outputs": [],
   "source": [
    "# Don't run this anymore!! We only needed it once.\n",
    "# I used wayback machine to collect the county data for the dates before I began this project, starting with first day over 100 cases\n",
    "# for some reason the wayaback and the current web scrape produce different numbers of tables\n",
    "'''get_historical_data = [\n",
    "    'https://web.archive.org/web/20200320184055/https://www.sandiegocounty.gov/content/sdc/hhsa/programs/phs/community_epidemiology/dc/2019-nCoV/status.html',\n",
    "    'https://web.archive.org/web/20200321141257/https://www.sandiegocounty.gov/content/sdc/hhsa/programs/phs/community_epidemiology/dc/2019-nCoV/status.html',\n",
    "    'https://web.archive.org/web/20200322080211/https://www.sandiegocounty.gov/content/sdc/hhsa/programs/phs/community_epidemiology/dc/2019-nCoV/status.html',\n",
    "    'https://web.archive.org/web/20200323094801/https://www.sandiegocounty.gov/content/sdc/hhsa/programs/phs/community_epidemiology/dc/2019-nCoV/status.html',\n",
    "    'https://web.archive.org/web/20200324003021/https://www.sandiegocounty.gov/content/sdc/hhsa/programs/phs/community_epidemiology/dc/2019-nCoV/status.html'\n",
    "]\n",
    "\n",
    "for link in get_historical_data:\n",
    "    tab = pd.read_html(link)\n",
    "    #comes down as a list of each column seperately, with the header the same in each column-table\n",
    "    table = tab[2].drop(0)\n",
    "    # setup header and index\n",
    "    cs =  table.iloc[0,:].to_list()\n",
    "    cs[0] = 'index'\n",
    "    table.columns = cs\n",
    "    table = table.drop(1).set_index('index')\n",
    "    # get todays date from that header we threw away on each column\n",
    "    dt = search_dates(tab[2].iloc[0,0])[-1][1]\n",
    "    today = dt.strftime('%Y-%m-%d')\n",
    "    # theres some variability in nomenclature to deal with from day to day\n",
    "    idx = table.index.to_series()\n",
    "    idx[ 'Hospitalized' == idx ] = 'Hospitalizations'\n",
    "    table.index = idx\n",
    "    if not 'Intensive Care' in idx:\n",
    "        table.loc['Intensive Care',:] = 0\n",
    "        \n",
    "    print(today)\n",
    "    # record todays data for posterity\n",
    "    table.to_csv(dataf.format(today))\n",
    "    tab_hist[today] = table\n",
    "    ''';"
   ]
  },
  {
   "cell_type": "code",
   "execution_count": 711,
   "metadata": {},
   "outputs": [
    {
     "name": "stdout",
     "output_type": "stream",
     "text": [
      "2020-03-28\n",
      "2020-03-29\n",
      "2020-03-22\n",
      "2020-03-23\n",
      "2020-03-21\n",
      "2020-04-01\n",
      "2020-03-20\n",
      "2020-03-30\n",
      "2020-03-24\n",
      "2020-03-25\n",
      "2020-03-31\n",
      "2020-03-19\n",
      "2020-03-27\n",
      "2020-03-26\n"
     ]
    }
   ],
   "source": [
    "# From now on we can just load the data that's already in the repo\n",
    "files = glob.glob('Data/SDcountySituation*.csv') # gets all .csv filenames in directory\n",
    "for afile in files:\n",
    "    dt = afile.split('/')[1][18:28]\n",
    "    print(dt)\n",
    "    tab_hist[dt] = pd.read_csv(afile,index_col=0,header=0)"
   ]
  },
  {
   "cell_type": "code",
   "execution_count": 774,
   "metadata": {},
   "outputs": [],
   "source": [
    "# Run me every day! Website updates once a day at around 4pm\n",
    "tab = pd.read_html('https://www.sandiegocounty.gov/content/sdc/hhsa/programs/phs/community_epidemiology/dc/2019-nCoV/status.html')\n",
    "#comes down as a list of each column seperately, with the header the same in each column-table\n",
    "tabs = [ x.drop(0) for x in tab]\n",
    "table = pd.concat(tabs)\n",
    "# setup header and index\n",
    "cs =  table.iloc[0,:].to_list()\n",
    "cs[0] = 'index'\n",
    "table.columns = cs\n",
    "table = table.drop(1).set_index('index')\n",
    "# get todays date from that header we threw away on each column\n",
    "# great, they've updated the format again and now it says \n",
    "#\"updated Date X with data through Date X-1\"\n",
    "# it's like they're trying to make it harder for me by changing something every day!\n",
    "# need to go back to Date X format for consistency with previous data\n",
    "# OLD: dt = search_dates(tab[0][0][0])[-1][1]\n",
    "dt = search_dates(tab[0][0][0])[-2][1]\n",
    "today = dt.strftime('%Y-%m-%d')\n"
   ]
  },
  {
   "cell_type": "code",
   "execution_count": 775,
   "metadata": {
    "scrolled": true
   },
   "outputs": [
    {
     "name": "stdout",
     "output_type": "stream",
     "text": [
      "2020-04-03\n"
     ]
    },
    {
     "data": {
      "text/html": [
       "<div>\n",
       "<style scoped>\n",
       "    .dataframe tbody tr th:only-of-type {\n",
       "        vertical-align: middle;\n",
       "    }\n",
       "\n",
       "    .dataframe tbody tr th {\n",
       "        vertical-align: top;\n",
       "    }\n",
       "\n",
       "    .dataframe thead th {\n",
       "        text-align: right;\n",
       "    }\n",
       "</style>\n",
       "<table border=\"1\" class=\"dataframe\">\n",
       "  <thead>\n",
       "    <tr style=\"text-align: right;\">\n",
       "      <th></th>\n",
       "      <th>Total</th>\n",
       "    </tr>\n",
       "    <tr>\n",
       "      <th>index</th>\n",
       "      <th></th>\n",
       "    </tr>\n",
       "  </thead>\n",
       "  <tbody>\n",
       "    <tr>\n",
       "      <td>Total Positives</td>\n",
       "      <td>1112</td>\n",
       "    </tr>\n",
       "    <tr>\n",
       "      <td>Age Groups</td>\n",
       "      <td>NaN</td>\n",
       "    </tr>\n",
       "    <tr>\n",
       "      <td>0-9 years</td>\n",
       "      <td>10</td>\n",
       "    </tr>\n",
       "    <tr>\n",
       "      <td>10-19 years</td>\n",
       "      <td>12</td>\n",
       "    </tr>\n",
       "    <tr>\n",
       "      <td>20-29 years</td>\n",
       "      <td>198</td>\n",
       "    </tr>\n",
       "    <tr>\n",
       "      <td>30-39 years</td>\n",
       "      <td>238</td>\n",
       "    </tr>\n",
       "    <tr>\n",
       "      <td>40-49 years</td>\n",
       "      <td>192</td>\n",
       "    </tr>\n",
       "    <tr>\n",
       "      <td>50-59 years</td>\n",
       "      <td>177</td>\n",
       "    </tr>\n",
       "    <tr>\n",
       "      <td>60-69 years</td>\n",
       "      <td>136</td>\n",
       "    </tr>\n",
       "    <tr>\n",
       "      <td>70-79 years</td>\n",
       "      <td>88</td>\n",
       "    </tr>\n",
       "    <tr>\n",
       "      <td>80+ years</td>\n",
       "      <td>55</td>\n",
       "    </tr>\n",
       "    <tr>\n",
       "      <td>Age Unknown</td>\n",
       "      <td>6</td>\n",
       "    </tr>\n",
       "    <tr>\n",
       "      <td>Gender</td>\n",
       "      <td>NaN</td>\n",
       "    </tr>\n",
       "    <tr>\n",
       "      <td>Female</td>\n",
       "      <td>519</td>\n",
       "    </tr>\n",
       "    <tr>\n",
       "      <td>Male</td>\n",
       "      <td>585</td>\n",
       "    </tr>\n",
       "    <tr>\n",
       "      <td>Unknown</td>\n",
       "      <td>8</td>\n",
       "    </tr>\n",
       "    <tr>\n",
       "      <td>Hospitalizations</td>\n",
       "      <td>211</td>\n",
       "    </tr>\n",
       "    <tr>\n",
       "      <td>Intensive Care</td>\n",
       "      <td>85</td>\n",
       "    </tr>\n",
       "    <tr>\n",
       "      <td>Deaths</td>\n",
       "      <td>17</td>\n",
       "    </tr>\n",
       "  </tbody>\n",
       "</table>\n",
       "</div>"
      ],
      "text/plain": [
       "                 Total\n",
       "index                 \n",
       "Total Positives   1112\n",
       "Age Groups         NaN\n",
       "0-9 years           10\n",
       "10-19 years         12\n",
       "20-29 years        198\n",
       "30-39 years        238\n",
       "40-49 years        192\n",
       "50-59 years        177\n",
       "60-69 years        136\n",
       "70-79 years         88\n",
       "80+ years           55\n",
       "Age Unknown          6\n",
       "Gender             NaN\n",
       "Female             519\n",
       "Male               585\n",
       "Unknown              8\n",
       "Hospitalizations   211\n",
       "Intensive Care      85\n",
       "Deaths              17"
      ]
     },
     "execution_count": 775,
     "metadata": {},
     "output_type": "execute_result"
    }
   ],
   "source": [
    "# OK, this is weird, starting 26 March the Total and non-county residents columns disappeared\n",
    "# and everythign is under San Diego County Residents, even though I believe that is actually the Total column\n",
    "# if i'm wrong this generates a discontinuity of 20 non-resident cases, making the growth from 25 - 26 March look\n",
    "# smaller than it is, it will lead to an underestimate of the exponential coefficient\n",
    "# Now after a few days of seeing county briefs I understand that thye changed how they count... people's registered address with DMV is used to count the numbers... not where they actually lived or where they visited the hospital.\n",
    "# and each jurisdiction is now only counting its residents (in this sense of the word), not the people in its hospitals\n",
    "\n",
    "table.columns=['Total']\n",
    "\n",
    "# record todays data for posterity\n",
    "table.to_csv(dataf.format(today))\n",
    "tab_hist[today] = table\n",
    "print(today)\n",
    "table"
   ]
  },
  {
   "cell_type": "code",
   "execution_count": 776,
   "metadata": {},
   "outputs": [],
   "source": [
    "cases = pd.Series({key:int(value.loc['Total Positives','Total']) for key,value in tab_hist.items()}).sort_index()\n",
    "hospitalizations = pd.Series({key:int(value.loc['Hospitalizations','Total']) for key,value in tab_hist.items()}).sort_index()\n",
    "icu = pd.Series({key:int(value.loc['Intensive Care','Total']) for key,value in tab_hist.items()}).sort_index()\n",
    "deaths = pd.Series({key:int(value.loc['Deaths','Total']) for key,value in tab_hist.items()}).sort_index()\n",
    "totals = pd.DataFrame( {'Confirmed cases':cases, 'Hospitalizations':hospitalizations, 'ICU patients':icu, 'Deaths':deaths})"
   ]
  },
  {
   "cell_type": "code",
   "execution_count": 777,
   "metadata": {},
   "outputs": [],
   "source": [
    "sns.set_style('darkgrid')\n",
    "colors = sns.color_palette()\n",
    "import matplotlib.pyplot as plt"
   ]
  },
  {
   "cell_type": "code",
   "execution_count": 778,
   "metadata": {
    "scrolled": false
   },
   "outputs": [
    {
     "data": {
      "image/png": "[encoded data removed]",
      "text/plain": [
       "<Figure size 576x720 with 4 Axes>"
      ]
     },
     "metadata": {},
     "output_type": "display_data"
    }
   ],
   "source": [
    "totals.plot(subplots=True,sharex=True,figsize=(8,10),marker='.')\n",
    "plt.suptitle('San Diego County COVID history')\n",
    "plt.savefig('Plots/chistory.png',dpi=300);"
   ]
  },
  {
   "cell_type": "code",
   "execution_count": 779,
   "metadata": {},
   "outputs": [
    {
     "data": {
      "image/png": "[encoded data removed]",
      "text/plain": [
       "<Figure size 576x720 with 4 Axes>"
      ]
     },
     "metadata": {},
     "output_type": "display_data"
    }
   ],
   "source": [
    "# Obviously the first date (20th or 21st depending on metric) is ignorable because it contains all previous days\n",
    "# Also I'm pretty sure the -5 hospitalizations on 23rd indicates that some data reclassification happened that day, not that some people were cured and walked out of hospital.\n",
    "totals.diff().rename(lambda x: 'Todays new '+x, axis='columns').plot(subplots=True,sharex=True,figsize=(8,10),marker='.');\n",
    "plt.suptitle('San Diego County COVID daily increases')\n",
    "plt.savefig('Plots/cdeltas.png',dpi=300);"
   ]
  },
  {
   "cell_type": "code",
   "execution_count": 780,
   "metadata": {},
   "outputs": [],
   "source": [
    "'''fig, ( (ax1,ax2), (ax3,ax4)) = plt.subplots(2, 2, sharex=True, figsize=(10,8))\n",
    "# I really hope I never have to add the argument logy=True to the plots\n",
    "cases.plot(title='Confirmed cases', color=colors[0], ax=ax1); \n",
    "hospitalizations.plot(title='Hospitalizations', color=colors[6], ax=ax2);\n",
    "icu.plot(title='ICU patients', color=colors[1], ax=ax3);\n",
    "deaths.plot(title='Deaths', color=colors[3], ax=ax4);\n",
    "for ax in fig.axes:\n",
    "    plt.sca(ax)\n",
    "    plt.xticks(rotation=60)\n",
    "plt.suptitle('San Diego county COVID-19 status');''';"
   ]
  },
  {
   "cell_type": "markdown",
   "metadata": {},
   "source": [
    "## Is social distancing helping control SD's outbreak?\n",
    "\n",
    "Doubling time is the # of days for the number of cases/hospitalizations/icu patients to double.  Because each one is a different measurement, I'm calculating doubling tiem seperately in each case.\n",
    "\n",
    "Now that there is at least one week of data for hospitalizations and icu usage, I feel like we can start to trust a doubling time estimate, and look for changes of doubling time to indicate changes in the progression of the outbreak.  Right now I'm using a sliding 7 day window to see how the doubling time is changing day to day.  I would probably rather have something more like a 10 day window (~ 2 doubling periods) to get a less noisy estimate but we dont' have that much data yet.\n",
    "\n",
    "Right now I'm using t-statistic estimated 95% confidence intervals on the exponential fit.  Seems as good as any method I can think of, comments from others are welcome.\n",
    "\n",
    "TL;DR What we want to see if the outbreak is slowing is for the doubling time to get quite a bit bigger.  In spite of the trend of these graphs, at this moment there is no solid evidence of the doubling rate slowing (the doubling time growing)\n"
   ]
  },
  {
   "cell_type": "code",
   "execution_count": 781,
   "metadata": {},
   "outputs": [],
   "source": [
    "from scipy.optimize import curve_fit\n",
    "from scipy.stats.distributions import t\n",
    "\n",
    "def exfunc(x, a, b):\n",
    "    return a * np.exp(b * x) \n",
    "    \n",
    "def estimate_doubling_time(data):\n",
    "    pest, pcov = curve_fit(exfunc, range(len(data)), data)\n",
    "    doubling_time = np.log(2)/pest[1]\n",
    "    \n",
    "    alpha = 0.05 # 95% confidence interval = 100*(1-alpha)\n",
    "    n = len(data)    # number of data points\n",
    "    p = len(pest) # number of parameters\n",
    "    dof = max(0, n - p) # number of degrees of freedom\n",
    "    # student-t value for the dof and confidence level\n",
    "    tval = t.ppf(1.0-alpha/2., dof) \n",
    "    sigmas = np.power( np.diag(pcov), 0.5)\n",
    "    \n",
    "    # this is the exponential param's stdev * Student's t correction for small N\n",
    "    # we also have to convert exponetial param to doubling time\n",
    "    ci95 = (np.log(2)/(pest[1]-sigmas[1]) - doubling_time)*tval \n",
    "    print(tval, sigmas, pest, ci95)\n",
    "    \n",
    "    return(doubling_time, ci95, pest, pcov)\n",
    "\n",
    "def days_to_value(pest, y):\n",
    "    '''\n",
    "    pest = [a, b]\n",
    "    y = a * exp( b * x )\n",
    "    ln(y) - ln(a) = b * x\n",
    "    x = ( ln(y) - ln(a) ) / b\n",
    "    '''\n",
    "    return (np.log(y) - np.log(pest[0]))/pest[1]\n",
    "\n"
   ]
  },
  {
   "cell_type": "code",
   "execution_count": 782,
   "metadata": {},
   "outputs": [
    {
     "name": "stdout",
     "output_type": "stream",
     "text": [
      "2.1447866879169273 [3.42234779e+00 2.20804970e-03] [123.08559269   0.14728499] 0.15362486487395127\n",
      "Estimating doubling time on confirmed cases data from 2020-03-19 to 2020-04-03\n",
      "Max likelihood estimate: 4.706 days\n",
      "95% confidence interval: 4.553 - 4.860 days\n"
     ]
    }
   ],
   "source": [
    "doubling_time, ci95, case_p_est, case_p_cov  = estimate_doubling_time(cases)\n",
    "print('Estimating doubling time on confirmed cases data from 2020-03-19 to {}'.format(today))\n",
    "print('Max likelihood estimate: {:4.3f} days'.format(doubling_time))\n",
    "print('95% confidence interval: {:4.3f} - {:4.3f} days'.format(doubling_time-ci95, doubling_time+ci95))"
   ]
  },
  {
   "cell_type": "code",
   "execution_count": 783,
   "metadata": {},
   "outputs": [
    {
     "name": "stdout",
     "output_type": "stream",
     "text": [
      "2.1447866879169273 [1.17937624 0.00382467] [24.59953205  0.14339262] 0.2841128901475807\n",
      "Estimating doubling time on hospitalizations data from 2020-03-19 to 2020-04-03\n",
      "Max likelihood estimate: 4.834 days\n",
      "95% confidence interval: 4.550 - 5.118 days\n",
      "[24.59953205  0.14339262]\n"
     ]
    }
   ],
   "source": [
    "doubling_time, ci95, hosp_p_est, hosp_p_cov = estimate_doubling_time(hospitalizations)\n",
    "print('Estimating doubling time on hospitalizations data from 2020-03-19 to {}'.format(today))\n",
    "print('Max likelihood estimate: {:4.3f} days'.format(doubling_time))\n",
    "print('95% confidence interval: {:4.3f} - {:4.3f} days'.format(doubling_time-ci95, doubling_time+ci95))\n",
    "print(hosp_p_est)"
   ]
  },
  {
   "cell_type": "code",
   "execution_count": 784,
   "metadata": {},
   "outputs": [
    {
     "name": "stdout",
     "output_type": "stream",
     "text": [
      "2.1788128296634177 [0.82891852 0.0049631 ] [16.02350463  0.12728425] 0.4814173990644885\n",
      "Estimating doubling time on hospitalizations data from 2020-03-21 (first day ICU beds recorded) to 2020-04-03\n",
      "Max likelihood estimate: 5.446 days\n",
      "95% confidence interval: 4.964 - 5.927 days\n"
     ]
    }
   ],
   "source": [
    "doubling_time, ci95, icu_p_est, icu_p_cov = estimate_doubling_time(icu['2020-03-21':])\n",
    "print('Estimating doubling time on hospitalizations data from 2020-03-21 (first day ICU beds recorded) to {}'.format(today))\n",
    "print('Max likelihood estimate: {:4.3f} days'.format(doubling_time))\n",
    "print('95% confidence interval: {:4.3f} - {:4.3f} days'.format(doubling_time-ci95, doubling_time+ci95))"
   ]
  },
  {
   "cell_type": "code",
   "execution_count": 785,
   "metadata": {},
   "outputs": [
    {
     "name": "stdout",
     "output_type": "stream",
     "text": [
      "2.5705818366147395 [6.7180112  0.00912622] [1.63419481e+02 1.52061832e-01] 0.7481473867412\n",
      "2.5705818366147395 [7.0055524  0.00818672] [1.89202505e+02 1.55784371e-01] 0.6344007837474478\n",
      "2.5705818366147395 [9.63064865e+00 9.62283483e-03] [2.23507070e+02 1.46696722e-01] 0.8526774718183098\n",
      "2.5705818366147395 [1.02377286e+01 8.82676410e-03] [2.60191001e+02 1.42715174e-01] 0.8230861222578238\n",
      "2.5705818366147395 [1.03658811e+01 7.69479045e-03] [3.01413637e+02 1.45028864e-01] 0.6883684275935115\n",
      "2.5705818366147395 [1.06655825e+01 6.85739417e-03] [3.46973131e+02 1.47660941e-01] 0.587674415301239\n",
      "2.5705818366147395 [1.06049636e+01 5.84866052e-03] [4.05718924e+02 1.44990512e-01] 0.5165542597600179\n",
      "2.5705818366147395 [1.02573816e+01 4.91562031e-03] [4.66634702e+02 1.45507451e-01] 0.4281440424345238\n"
     ]
    },
    {
     "data": {
      "image/png": "[encoded data removed]",
      "text/plain": [
       "<Figure size 432x288 with 1 Axes>"
      ]
     },
     "metadata": {},
     "output_type": "display_data"
    }
   ],
   "source": [
    "\n",
    "# So the 27thth is the first date I'd trust since that elimantes the big delta of the 1st data point on the 20th.\n",
    "\n",
    "start_calc = '2020-03-27'\n",
    "ex = []\n",
    "er = []\n",
    "ix = []\n",
    "\n",
    "# calc doubling time in a sliding window backwards 1 week for each day\n",
    "for day in cases[start_calc:].index:\n",
    "    todate = day\n",
    "    fromdate = (pd.Timestamp(day)-pd.Timedelta('6 days')).isoformat().split('T')[0]\n",
    "    doubling_time, ci95, case_p_est, case_p_cov = estimate_doubling_time(cases[fromdate:todate])\n",
    "    ex.append( doubling_time )\n",
    "    er.append( ci95 )\n",
    "    ix.append( day[-4:] )\n",
    "plt.errorbar( ix, ex, yerr=er, fmt='.', markersize=15)\n",
    "plt.title('Confirmed cases in San Diego County\\ncalc\\'d on 1 week sliding window before date')\n",
    "plt.ylabel('Days to double (expected +/- 95%CI)')\n",
    "plt.xlabel('Date')\n",
    "plt.ylim([2.5, 7.5])\n",
    "plt.xticks(rotation=-60)\n",
    "plt.savefig('Plots/casedoubling.png',dpi=300);"
   ]
  },
  {
   "cell_type": "code",
   "execution_count": 786,
   "metadata": {},
   "outputs": [
    {
     "name": "stdout",
     "output_type": "stream",
     "text": [
      "2.5705818366147395 [2.40231734 0.01739838] [30.14371562  0.16781625] 1.228095539741565\n",
      "2.5705818366147395 [2.18879131 0.01368505] [34.78593242  0.17149419] 0.9009933417432724\n",
      "2.5705818366147395 [2.29202057 0.01222297] [41.04028116  0.16539136] 0.8597096979503501\n",
      "2.5705818366147395 [2.63538779 0.01144478] [51.60603416  0.14358534] 1.074776157754566\n",
      "2.5705818366147395 [1.79813362 0.00654344] [62.54893374  0.13026576] 0.7234106004142652\n",
      "2.5705818366147395 [1.57902364 0.00499381] [72.08000207  0.12901012] 0.5561424575777202\n",
      "2.5705818366147395 [1.47701725 0.00407921] [82.53222703  0.12909333] 0.45037085986798786\n",
      "2.5705818366147395 [1.55829907 0.00383392] [91.79688259  0.13686569] 0.3751887971695856\n"
     ]
    },
    {
     "data": {
      "image/png": "[encoded data removed]",
      "text/plain": [
       "<Figure size 432x288 with 1 Axes>"
      ]
     },
     "metadata": {},
     "output_type": "display_data"
    }
   ],
   "source": [
    "#hospitalizations has a weird negative change on the 23rd, I'm guessing using anything before that will be bad;\n",
    "# So the 30th is the first date I'd trust\n",
    "\n",
    "start_calc = '2020-03-27'\n",
    "ex = []\n",
    "er = []\n",
    "ix = []\n",
    "\n",
    "# calc doubling time in a sliding window backwards 1 week for each day\n",
    "for day in hospitalizations[start_calc:].index:\n",
    "    todate = day\n",
    "    fromdate = (pd.Timestamp(day)-pd.Timedelta('6 days')).isoformat().split('T')[0]\n",
    "    doubling_time, ci95, hosp_p_est, hosp_p_cov = estimate_doubling_time(hospitalizations[fromdate:todate])\n",
    "    ex.append( doubling_time )\n",
    "    er.append( ci95 )\n",
    "    ix.append( day[-4:] )\n",
    "plt.errorbar( ix, ex, yerr=er, fmt='.', markersize=15)\n",
    "plt.title('Hospitalizations in San Diego County\\ncalc\\'d on 1 week sliding window before date')\n",
    "plt.ylabel('Days to double (expected +/- 95%CI)')\n",
    "plt.xlabel('Date')\n",
    "plt.ylim([2.5, 7.5])\n",
    "plt.xticks(rotation=-60)\n",
    "plt.savefig('Plots/hospitaldoubling.png',dpi=300);"
   ]
  },
  {
   "cell_type": "markdown",
   "metadata": {},
   "source": [
    "# The number of available hospital beds\n",
    "\"As of 2018, San Diego had 6,180 total hospital beds. Of those, about 68% were occupied at any given time. That leaves 1,950 beds, including 800 intensive care unit beds, available for new patients.\" - https://www.kpbs.org/news/2020/mar/20/data-suggests-san-diego-hospitals-will-be-overfill/"
   ]
  },
  {
   "cell_type": "code",
   "execution_count": 787,
   "metadata": {},
   "outputs": [
    {
     "name": "stdout",
     "output_type": "stream",
     "text": [
      "Hospitals reach capacity on 2020-04-10 07:53:02.814285779\n",
      "ICUs reach capacity on 2020-04-18 17:21:07.970924611\n"
     ]
    }
   ],
   "source": [
    "availbeds = 1950\n",
    "availicu = 800\n",
    "\n",
    "hospital_capacity = days_to_value(hosp_p_est,availbeds)\n",
    "#print('{:4.2f} days until hospital capacity reached'.format(hospital_capacity))\n",
    "print('Hospitals reach capacity on {}'.format(pd.Timestamp('2020-03-19') + pd.Timedelta('1 day')*hospital_capacity))\n",
    "\n",
    "icu_capacity = days_to_value(icu_p_est,availicu)\n",
    "#print('{:4.2f} days until ICU capacity reached'.format(icu_capacity))\n",
    "print('ICUs reach capacity on {}'.format(pd.Timestamp('2020-03-19') + pd.Timedelta('1 day')*icu_capacity))\n",
    "\n"
   ]
  },
  {
   "cell_type": "code",
   "execution_count": 788,
   "metadata": {
    "scrolled": false
   },
   "outputs": [
    {
     "data": {
      "image/png": "[encoded data removed]",
      "text/plain": [
       "<Figure size 720x360 with 1 Axes>"
      ]
     },
     "metadata": {},
     "output_type": "display_data"
    }
   ],
   "source": [
    "projcases = pd.DataFrame(exfunc(range(0,35),case_p_est[0],case_p_est[1]),\n",
    "                        index=pd.date_range(start='2020-03-19',periods=35)\n",
    "                        ).astype(int)\n",
    "projhosp = pd.DataFrame(exfunc(range(0,35),hosp_p_est[0],hosp_p_est[1]),\n",
    "                        index=pd.date_range(start='2020-03-19',periods=35)\n",
    "                        ).astype(int)\n",
    "projicu = pd.DataFrame(exfunc(range(0,34),icu_p_est[0],icu_p_est[1]),\n",
    "                        index=pd.date_range(start='2020-03-21',periods=34)\n",
    "                        ).astype(int)\n",
    "\n",
    "projcases.columns = ['Confirmed cases']\n",
    "projhosp.columns = ['Hospitalized']\n",
    "projicu.columns = ['in ICU beds']\n",
    "\n",
    "projected = pd.merge(projcases,projhosp,left_index=True,right_index=True,how='outer')\n",
    "#projected = pd.merge(projected,projicu,left_index=True,right_index=True,how='outer')\n",
    "\n",
    "fig, ax = plt.subplots(figsize=(10, 5))\n",
    "projected.plot(title='Projected COVID-19 outbreak in San Diego county',ax=ax,logy=True);\n",
    "plt.ylabel('Number of people projected to be...');\n",
    "plt.axhline(y=availbeds,linestyle=':',color='k');\n",
    "plt.axvline(x=ax.get_xbound()[0] + hospital_capacity, linestyle=':', color='k');\n",
    "ax.annotate('Hospital free bed capacity',\n",
    "            xy=(ax.get_xbound()[0]+2, 2200), xycoords='data', fontsize=10);\n",
    "#plt.axhline(y=availicu,linestyle=':',color='k');\n",
    "#plt.axvline(x=ax.get_xbound()[0] + icu_capacity, linestyle=':', color='k');\n",
    "#ax.annotate('ICU free bed capacity',\n",
    "#            xy=(ax.get_xbound()[0]+2, 1000), xycoords='data', fontsize=10);\n",
    "plt.savefig('Plots/hospitalcapacity.png',dpi=300);"
   ]
  },
  {
   "cell_type": "markdown",
   "metadata": {},
   "source": [
    "# but all this might be moot...\n",
    "because I ran this by two people who actually know stuff, unlike me.\n",
    "\n",
    "My summary: Hospitals could be stressed and not dealing well with the infected as soon as they have a couple of patients.  They will then adjust and just make-do as best they can, shutting down services, moving resources from here to there as much as they can.  These decisions will be made differently by each hospital so there's really no way to predict hospital capacity.  \n",
    "\n",
    "Perhaps you can see my capacity limit as an upper limit... that is the hospital system in San Diego will likely be in crisis well before my estimate of **April 13th**\n",
    "\n",
    "To read the actual exchange, see below\n",
    "\n",
    "--Jason\n",
    "\n",
    "\n",
    "\n",
    "Gerald Pao, an MD/PhD who's worked in virology... \n",
    "\n",
    ">Although this is a reasonable estimate at face value it does not take into account how a hospital works\n",
    "You cannot have the highly contagious population in the same space as the rest of the patients who are there for other reasons.\n",
    "So you need to ask how many barrier nursing negative pressure beds does the hospital have?\n",
    "The answer is for any normal hospital the number of beds is between 5-10\n",
    "I have asked my friends in CA  from the Bay area, LA and SD and no one has given me a number higher than 10\n",
    "This means people will have to designate hospital wings to this task and somehow separate things. \n",
    "In places in Spain and Italy they sometimes designated particular hospitals for this task or had the ER designated for it and rearranged it.\n",
    "In other ones they had particular floors closed off etc.\n",
    "so the real capacity will depend on what the hospital administrators decide to do and will be made in uneven and unpredictable ways as there is no single set of rules on how to manage this.\n",
    "Therefore the pressure on hospitals and when you will be out of capacity will be difficult to estimate. We do not have a national healthcare system as you know so it’s gonna be a a free for all.\n",
    ">\n",
    ">Gerald Pao \n",
    ">\n",
    ">The Salk Institute for Biological Studies\n",
    "\n",
    "\n",
    "Joel Wertheim, a bioinformatician who specializes in the evolution and epidemiology of HIV...  \n",
    "\n",
    ">Hi Jason,\n",
    ">\n",
    ">Interesting  stuff.\n",
    ">\n",
    ">Another point to consider in the general design is the time-lag between all of these states. Most people are not admitted to the hospital for quite some time after infection. If they proceed to the ICU and/or death, that also can take weeks after initial infection/diagnosis. I’m not sure of the proportion of cases in San Diego diagnosed after admittance to the hospital, as opposed to be people who aren't (yet) sick enough to be hospitalized. \n",
    ">\n",
    ">Also, at UC San Diego, negative pressure rooms were originally used for COVID patients (back when we were treating the first patients brought back from China). Now, they are just being used for procedures that would result in high likelihood of spread (i.e., intubation). So the number of beds can change with the severity of the epidemic (as Gerald also mentioned).\n",
    ">\n",
    ">Cheers,\n",
    ">\n",
    ">Joel  \n",
    ">\n",
    ">University of California San Diego\n"
   ]
  },
  {
   "cell_type": "markdown",
   "metadata": {},
   "source": [
    "\n",
    "# Here is a maybe-better resource on this topic than my model….  It projects bed, ICU, and ventilator usage for US and all 50 states separately \n",
    "\n",
    "Interactive visualization\n",
    "https://covid19.healthdata.org/projections\n",
    "\n",
    "Arxiv paper:\n",
    "http://www.healthdata.org/sites/default/files/files/research_articles/2020/covid_paper_MEDRXIV-2020-043752v1-Murray.pdf\n",
    "\n",
    "\n",
    "And here is some sharp criticism of the model above from an excellent source (the creator of the course \"Calling Bullshit on Big Data\").  TLDR; The model is making some strong assumptions that may not be warranted:\n",
    "https://twitter.com/CT_Bergstrom/status/1244815009303023616\n",
    "\n",
    "For posterity and to compare the outcome with the projections, I'm putting screen shots of this model's predictions for USA and CA into this notebook (collected on the evening of March 26 2020).  Particularly I'm interested in teh 95% confidecne interval values and comparing the results in July with what these models were saying now\n"
   ]
  },
  {
   "cell_type": "markdown",
   "metadata": {},
   "source": [
    "![USA prediction hospitalizations](Images/USA-prediction-hospital.png \"USA prediction hospitalizations\")"
   ]
  },
  {
   "cell_type": "markdown",
   "metadata": {},
   "source": [
    "![USA prediction deaths](Images/USA-prediction-deaths.png \"USA prediction deaths\")"
   ]
  },
  {
   "cell_type": "markdown",
   "metadata": {},
   "source": [
    "![CA prediction hospitalizations](Images/CA-prediction-hospital.png \"USA prediction hospitalizations\")"
   ]
  },
  {
   "cell_type": "markdown",
   "metadata": {},
   "source": [
    "![CA prediction deaths](Images/CA-prediction-deaths.png \"CA prediction deaths\")"
   ]
  },
  {
   "cell_type": "markdown",
   "metadata": {},
   "source": [
    "### Below this is just some stuff I started to scrape the location data... \n",
    "But TBH I now think this is useless... there's no way the location of infection is useful except as a proxy for which hospitals are most burdened.\n",
    "\n",
    "Certainly you wouldn't want to say something like \"Oh this is were you can catch the virus the best...\" That's some BS because there is 1) unknown infected people out there and 2) the location is probably where someone went to hospital, not where they live or work "
   ]
  },
  {
   "cell_type": "code",
   "execution_count": 789,
   "metadata": {},
   "outputs": [],
   "source": [
    "# these column locations are hand tuned \n",
    "locations = read_pdf('https://www.sandiegocounty.gov/content/dam/sdc/hhsa/programs/phs/Epidemiology/COVID-19%20Daily%20Update_City%20of%20Residence.pdf', options=\"--columns 250.0,375.0\", guess=False)"
   ]
  },
  {
   "cell_type": "code",
   "execution_count": 790,
   "metadata": {},
   "outputs": [],
   "source": [
    "# because I'm not parsing the date out of the pdf, you should manually make sure this has been updated too before scraping!\n",
    "# 3/25 version\n",
    "'''locations = locations.set_index('County of San Diego')\n",
    "locations = locations['San Diego County':'OVERALL TOTAL'].dropna()\n",
    "locations.columns = locations.loc['San Diego County',:]\n",
    "locations = locations.drop('San Diego County')\n",
    "locations.to_csv(locf.format(today))\n",
    "print(today)\n",
    "locations'''\n",
    "None;"
   ]
  },
  {
   "cell_type": "code",
   "execution_count": 791,
   "metadata": {},
   "outputs": [
    {
     "name": "stdout",
     "output_type": "stream",
     "text": [
      "2020-04-03\n"
     ]
    },
    {
     "data": {
      "text/html": [
       "<div>\n",
       "<style scoped>\n",
       "    .dataframe tbody tr th:only-of-type {\n",
       "        vertical-align: middle;\n",
       "    }\n",
       "\n",
       "    .dataframe tbody tr th {\n",
       "        vertical-align: top;\n",
       "    }\n",
       "\n",
       "    .dataframe thead th {\n",
       "        text-align: right;\n",
       "    }\n",
       "</style>\n",
       "<table border=\"1\" class=\"dataframe\">\n",
       "  <thead>\n",
       "    <tr style=\"text-align: right;\">\n",
       "      <th>San Diego County</th>\n",
       "      <th>Count</th>\n",
       "      <th>Percentage** of Overall Total</th>\n",
       "    </tr>\n",
       "    <tr>\n",
       "      <th>County of San Diego</th>\n",
       "      <th></th>\n",
       "      <th></th>\n",
       "    </tr>\n",
       "  </thead>\n",
       "  <tbody>\n",
       "    <tr>\n",
       "      <td>Incorporated City</td>\n",
       "      <td>980</td>\n",
       "      <td>88.1%</td>\n",
       "    </tr>\n",
       "    <tr>\n",
       "      <td>Carlsbad</td>\n",
       "      <td>37</td>\n",
       "      <td>3.3%</td>\n",
       "    </tr>\n",
       "    <tr>\n",
       "      <td>Chula Vista</td>\n",
       "      <td>75</td>\n",
       "      <td>6.7%</td>\n",
       "    </tr>\n",
       "    <tr>\n",
       "      <td>Coronado</td>\n",
       "      <td>4</td>\n",
       "      <td>0.4%</td>\n",
       "    </tr>\n",
       "    <tr>\n",
       "      <td>Del Mar</td>\n",
       "      <td>7</td>\n",
       "      <td>0.6%</td>\n",
       "    </tr>\n",
       "    <tr>\n",
       "      <td>El Cajon</td>\n",
       "      <td>60</td>\n",
       "      <td>5.4%</td>\n",
       "    </tr>\n",
       "    <tr>\n",
       "      <td>Encinitas</td>\n",
       "      <td>27</td>\n",
       "      <td>2.4%</td>\n",
       "    </tr>\n",
       "    <tr>\n",
       "      <td>Escondido</td>\n",
       "      <td>26</td>\n",
       "      <td>2.3%</td>\n",
       "    </tr>\n",
       "    <tr>\n",
       "      <td>Imperial Beach</td>\n",
       "      <td>2</td>\n",
       "      <td>0.2%</td>\n",
       "    </tr>\n",
       "    <tr>\n",
       "      <td>La Mesa</td>\n",
       "      <td>15</td>\n",
       "      <td>1.3%</td>\n",
       "    </tr>\n",
       "    <tr>\n",
       "      <td>Lemon Grove</td>\n",
       "      <td>10</td>\n",
       "      <td>0.9%</td>\n",
       "    </tr>\n",
       "    <tr>\n",
       "      <td>National City</td>\n",
       "      <td>18</td>\n",
       "      <td>1.6%</td>\n",
       "    </tr>\n",
       "    <tr>\n",
       "      <td>Oceanside</td>\n",
       "      <td>27</td>\n",
       "      <td>2.4%</td>\n",
       "    </tr>\n",
       "    <tr>\n",
       "      <td>Poway</td>\n",
       "      <td>13</td>\n",
       "      <td>1.2%</td>\n",
       "    </tr>\n",
       "    <tr>\n",
       "      <td>San Diego</td>\n",
       "      <td>614</td>\n",
       "      <td>55.2%</td>\n",
       "    </tr>\n",
       "    <tr>\n",
       "      <td>San Marcos</td>\n",
       "      <td>13</td>\n",
       "      <td>1.2%</td>\n",
       "    </tr>\n",
       "    <tr>\n",
       "      <td>Santee</td>\n",
       "      <td>12</td>\n",
       "      <td>1.1%</td>\n",
       "    </tr>\n",
       "    <tr>\n",
       "      <td>Solana Beach</td>\n",
       "      <td>5</td>\n",
       "      <td>0.4%</td>\n",
       "    </tr>\n",
       "    <tr>\n",
       "      <td>Vista</td>\n",
       "      <td>15</td>\n",
       "      <td>1.3%</td>\n",
       "    </tr>\n",
       "    <tr>\n",
       "      <td>Unincorporated</td>\n",
       "      <td>117</td>\n",
       "      <td>10.5%</td>\n",
       "    </tr>\n",
       "    <tr>\n",
       "      <td>Alpine</td>\n",
       "      <td>1</td>\n",
       "      <td>0.1%</td>\n",
       "    </tr>\n",
       "    <tr>\n",
       "      <td>Bonita</td>\n",
       "      <td>7</td>\n",
       "      <td>0.6%</td>\n",
       "    </tr>\n",
       "    <tr>\n",
       "      <td>Borrego Springs</td>\n",
       "      <td>1</td>\n",
       "      <td>0.1%</td>\n",
       "    </tr>\n",
       "    <tr>\n",
       "      <td>Descanso</td>\n",
       "      <td>1</td>\n",
       "      <td>0.1%</td>\n",
       "    </tr>\n",
       "    <tr>\n",
       "      <td>Fallbrook</td>\n",
       "      <td>5</td>\n",
       "      <td>0.4%</td>\n",
       "    </tr>\n",
       "    <tr>\n",
       "      <td>Jamul</td>\n",
       "      <td>1</td>\n",
       "      <td>0.1%</td>\n",
       "    </tr>\n",
       "    <tr>\n",
       "      <td>Lakeside</td>\n",
       "      <td>8</td>\n",
       "      <td>0.7%</td>\n",
       "    </tr>\n",
       "    <tr>\n",
       "      <td>Pauma Valley</td>\n",
       "      <td>2</td>\n",
       "      <td>0.2%</td>\n",
       "    </tr>\n",
       "    <tr>\n",
       "      <td>Ramona</td>\n",
       "      <td>6</td>\n",
       "      <td>0.5%</td>\n",
       "    </tr>\n",
       "    <tr>\n",
       "      <td>Ranchita</td>\n",
       "      <td>2</td>\n",
       "      <td>0.2%</td>\n",
       "    </tr>\n",
       "    <tr>\n",
       "      <td>Rancho Santa Fe</td>\n",
       "      <td>13</td>\n",
       "      <td>1.2%</td>\n",
       "    </tr>\n",
       "    <tr>\n",
       "      <td>Spring Valley</td>\n",
       "      <td>23</td>\n",
       "      <td>2.1%</td>\n",
       "    </tr>\n",
       "    <tr>\n",
       "      <td>Valley Center</td>\n",
       "      <td>1</td>\n",
       "      <td>0.1%</td>\n",
       "    </tr>\n",
       "    <tr>\n",
       "      <td>Other</td>\n",
       "      <td>46</td>\n",
       "      <td>4.1%</td>\n",
       "    </tr>\n",
       "    <tr>\n",
       "      <td>Unknown*</td>\n",
       "      <td>15</td>\n",
       "      <td>1.3%</td>\n",
       "    </tr>\n",
       "    <tr>\n",
       "      <td>Total San Diego County Residents</td>\n",
       "      <td>1,112</td>\n",
       "      <td>100.0%</td>\n",
       "    </tr>\n",
       "  </tbody>\n",
       "</table>\n",
       "</div>"
      ],
      "text/plain": [
       "San Diego County                  Count Percentage** of Overall Total\n",
       "County of San Diego                                                  \n",
       "Incorporated City                   980                         88.1%\n",
       "Carlsbad                             37                          3.3%\n",
       "Chula Vista                          75                          6.7%\n",
       "Coronado                              4                          0.4%\n",
       "Del Mar                               7                          0.6%\n",
       "El Cajon                             60                          5.4%\n",
       "Encinitas                            27                          2.4%\n",
       "Escondido                            26                          2.3%\n",
       "Imperial Beach                        2                          0.2%\n",
       "La Mesa                              15                          1.3%\n",
       "Lemon Grove                          10                          0.9%\n",
       "National City                        18                          1.6%\n",
       "Oceanside                            27                          2.4%\n",
       "Poway                                13                          1.2%\n",
       "San Diego                           614                         55.2%\n",
       "San Marcos                           13                          1.2%\n",
       "Santee                               12                          1.1%\n",
       "Solana Beach                          5                          0.4%\n",
       "Vista                                15                          1.3%\n",
       "Unincorporated                      117                         10.5%\n",
       "Alpine                                1                          0.1%\n",
       "Bonita                                7                          0.6%\n",
       "Borrego Springs                       1                          0.1%\n",
       "Descanso                              1                          0.1%\n",
       "Fallbrook                             5                          0.4%\n",
       "Jamul                                 1                          0.1%\n",
       "Lakeside                              8                          0.7%\n",
       "Pauma Valley                          2                          0.2%\n",
       "Ramona                                6                          0.5%\n",
       "Ranchita                              2                          0.2%\n",
       "Rancho Santa Fe                      13                          1.2%\n",
       "Spring Valley                        23                          2.1%\n",
       "Valley Center                         1                          0.1%\n",
       "Other                                46                          4.1%\n",
       "Unknown*                             15                          1.3%\n",
       "Total San Diego County Residents  1,112                        100.0%"
      ]
     },
     "execution_count": 791,
     "metadata": {},
     "output_type": "execute_result"
    }
   ],
   "source": [
    "# because I'm not parsing the date out of the pdf, you should manually make sure this has been updated too before scraping!\n",
    "# 3/26 version\n",
    "locations = locations.set_index('County of San Diego')\n",
    "locations = locations['San Diego County':'Total San Diego County Residents'].dropna()\n",
    "locations.columns = locations.loc['San Diego County',:]\n",
    "locations = locations.drop('San Diego County')\n",
    "locations.to_csv(locf.format(today))\n",
    "print(today)\n",
    "locations"
   ]
  },
  {
   "cell_type": "code",
   "execution_count": 795,
   "metadata": {},
   "outputs": [
    {
     "name": "stdout",
     "output_type": "stream",
     "text": [
      "2020-04-03\n"
     ]
    },
    {
     "data": {
      "text/html": [
       "<div>\n",
       "<style scoped>\n",
       "    .dataframe tbody tr th:only-of-type {\n",
       "        vertical-align: middle;\n",
       "    }\n",
       "\n",
       "    .dataframe tbody tr th {\n",
       "        vertical-align: top;\n",
       "    }\n",
       "\n",
       "    .dataframe thead th {\n",
       "        text-align: right;\n",
       "    }\n",
       "</style>\n",
       "<table border=\"1\" class=\"dataframe\">\n",
       "  <thead>\n",
       "    <tr style=\"text-align: right;\">\n",
       "      <th></th>\n",
       "      <th>Case Count</th>\n",
       "    </tr>\n",
       "    <tr>\n",
       "      <th>Zip Code</th>\n",
       "      <th></th>\n",
       "    </tr>\n",
       "  </thead>\n",
       "  <tbody>\n",
       "    <tr>\n",
       "      <td>91901</td>\n",
       "      <td>1</td>\n",
       "    </tr>\n",
       "    <tr>\n",
       "      <td>91902</td>\n",
       "      <td>9</td>\n",
       "    </tr>\n",
       "    <tr>\n",
       "      <td>91909</td>\n",
       "      <td>1</td>\n",
       "    </tr>\n",
       "    <tr>\n",
       "      <td>91910</td>\n",
       "      <td>23</td>\n",
       "    </tr>\n",
       "    <tr>\n",
       "      <td>91911</td>\n",
       "      <td>21</td>\n",
       "    </tr>\n",
       "    <tr>\n",
       "      <td>...</td>\n",
       "      <td>...</td>\n",
       "    </tr>\n",
       "    <tr>\n",
       "      <td>92161</td>\n",
       "      <td>3</td>\n",
       "    </tr>\n",
       "    <tr>\n",
       "      <td>92168</td>\n",
       "      <td>1</td>\n",
       "    </tr>\n",
       "    <tr>\n",
       "      <td>92173</td>\n",
       "      <td>8</td>\n",
       "    </tr>\n",
       "    <tr>\n",
       "      <td>92196</td>\n",
       "      <td>1</td>\n",
       "    </tr>\n",
       "    <tr>\n",
       "      <td>TOTAL</td>\n",
       "      <td>1112</td>\n",
       "    </tr>\n",
       "  </tbody>\n",
       "</table>\n",
       "<p>96 rows × 1 columns</p>\n",
       "</div>"
      ],
      "text/plain": [
       "0        Case Count\n",
       "Zip Code           \n",
       "91901             1\n",
       "91902             9\n",
       "91909             1\n",
       "91910            23\n",
       "91911            21\n",
       "...             ...\n",
       "92161             3\n",
       "92168             1\n",
       "92173             8\n",
       "92196             1\n",
       "TOTAL          1112\n",
       "\n",
       "[96 rows x 1 columns]"
      ]
     },
     "execution_count": 795,
     "metadata": {},
     "output_type": "execute_result"
    }
   ],
   "source": [
    "zips = read_pdf('https://www.sandiegocounty.gov/content/dam/sdc/hhsa/programs/phs/Epidemiology/COVID-19%20Summary%20of%20Cases%20by%20Zip%20Code.pdf')\n",
    "zips.columns = zips.iloc[0,:]\n",
    "zips = zips[1:]\n",
    "zips = pd.concat([zips.iloc[:,:2], zips.iloc[:,2:]]).set_index('Zip Code').dropna().drop('Unknown*')\n",
    "zips.to_csv(zipf.format(today))\n",
    "print(today)\n",
    "zips"
   ]
  },
  {
   "cell_type": "code",
   "execution_count": null,
   "metadata": {},
   "outputs": [],
   "source": []
  },
  {
   "cell_type": "code",
   "execution_count": null,
   "metadata": {},
   "outputs": [],
   "source": []
  }
 ],
 "metadata": {
  "kernelspec": {
   "display_name": "Python 3",
   "language": "python",
   "name": "python3"
  },
  "language_info": {
   "codemirror_mode": {
    "name": "ipython",
    "version": 3
   },
   "file_extension": ".py",
   "mimetype": "text/x-python",
   "name": "python",
   "nbconvert_exporter": "python",
   "pygments_lexer": "ipython3",
   "version": "3.7.4"
  }
 },
 "nbformat": 4,
 "nbformat_minor": 2
}
