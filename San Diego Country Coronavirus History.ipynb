{
 "cells": [
  {
   "cell_type": "code",
   "execution_count": 240,
   "metadata": {},
   "outputs": [],
   "source": [
    "import pandas as pd\n",
    "from dateparser.search import search_dates\n",
    "import seaborn as sns\n",
    "import glob\n",
    "from tabula import read_pdf\n",
    "import numpy as np\n",
    "\n",
    "dataf = 'SDcountySituation-{}.csv'\n",
    "locf = 'SDcountyLocations-{}.csv'\n",
    "tab_hist = {}"
   ]
  },
  {
   "cell_type": "code",
   "execution_count": 58,
   "metadata": {},
   "outputs": [
    {
     "name": "stdout",
     "output_type": "stream",
     "text": [
      "2020-03-19\n",
      "2020-03-20\n",
      "2020-03-21\n",
      "2020-03-22\n",
      "2020-03-23\n"
     ]
    }
   ],
   "source": [
    "# Don't run this anymore!! We only needed it once.\n",
    "# I used wayback machine to collect the county data for the dates before I began this project, starting with first day over 100 cases\n",
    "# for some reason the wayaback and the current web scrape produce different numbers of tables\n",
    "'''get_historical_data = [\n",
    "    'https://web.archive.org/web/20200320184055/https://www.sandiegocounty.gov/content/sdc/hhsa/programs/phs/community_epidemiology/dc/2019-nCoV/status.html',\n",
    "    'https://web.archive.org/web/20200321141257/https://www.sandiegocounty.gov/content/sdc/hhsa/programs/phs/community_epidemiology/dc/2019-nCoV/status.html',\n",
    "    'https://web.archive.org/web/20200322080211/https://www.sandiegocounty.gov/content/sdc/hhsa/programs/phs/community_epidemiology/dc/2019-nCoV/status.html',\n",
    "    'https://web.archive.org/web/20200323094801/https://www.sandiegocounty.gov/content/sdc/hhsa/programs/phs/community_epidemiology/dc/2019-nCoV/status.html',\n",
    "    'https://web.archive.org/web/20200324003021/https://www.sandiegocounty.gov/content/sdc/hhsa/programs/phs/community_epidemiology/dc/2019-nCoV/status.html'\n",
    "]\n",
    "\n",
    "for link in get_historical_data:\n",
    "    tab = pd.read_html(link)\n",
    "    #comes down as a list of each column seperately, with the header the same in each column-table\n",
    "    table = tab[2].drop(0)\n",
    "    # setup header and index\n",
    "    cs =  table.iloc[0,:].to_list()\n",
    "    cs[0] = 'index'\n",
    "    table.columns = cs\n",
    "    table = table.drop(1).set_index('index')\n",
    "    # get todays date from that header we threw away on each column\n",
    "    dt = search_dates(tab[2].iloc[0,0])[-1][1]\n",
    "    today = dt.strftime('%Y-%m-%d')\n",
    "    # theres some variability in nomenclature to deal with from day to day\n",
    "    idx = table.index.to_series()\n",
    "    idx[ 'Hospitalized' == idx ] = 'Hospitalizations'\n",
    "    table.index = idx\n",
    "    if not 'Intensive Care' in idx:\n",
    "        table.loc['Intensive Care',:] = 0\n",
    "        \n",
    "    print(today)\n",
    "    # record todays data for posterity\n",
    "    table.to_csv(dataf.format(today))\n",
    "    tab_hist[today] = table\n",
    "    '''"
   ]
  },
  {
   "cell_type": "code",
   "execution_count": 241,
   "metadata": {},
   "outputs": [
    {
     "name": "stdout",
     "output_type": "stream",
     "text": [
      "2020-03-22\n",
      "2020-03-23\n",
      "2020-03-21\n",
      "2020-03-20\n",
      "2020-03-24\n",
      "2020-03-25\n",
      "2020-03-19\n"
     ]
    }
   ],
   "source": [
    "# From now on we can just load the data that's already in the repo\n",
    "files = glob.glob('*.csv') # gets all .csv filenames in directory\n",
    "for afile in files:\n",
    "    dt = afile[18:28]\n",
    "    print(dt)\n",
    "    tab_hist[dt] = pd.read_csv(afile,index_col=0,header=0)"
   ]
  },
  {
   "cell_type": "code",
   "execution_count": 422,
   "metadata": {},
   "outputs": [],
   "source": [
    "# Run me every day! Website updates once a day at around 4pm\n",
    "tab = pd.read_html('https://www.sandiegocounty.gov/content/sdc/hhsa/programs/phs/community_epidemiology/dc/2019-nCoV/status.html')\n",
    "#comes down as a list of each column seperately, with the header the same in each column-table\n",
    "tabs = [ x.drop(0) for x in tab]\n",
    "table = pd.concat(tabs)\n",
    "# setup header and index\n",
    "cs =  table.iloc[0,:].to_list()\n",
    "cs[0] = 'index'\n",
    "table.columns = cs\n",
    "table = table.drop(1).set_index('index')\n",
    "# get todays date from that header we threw away on each column\n",
    "dt = search_dates(tab[0][0][0])[-1][1]\n",
    "today = dt.strftime('%Y-%m-%d')\n"
   ]
  },
  {
   "cell_type": "code",
   "execution_count": 423,
   "metadata": {},
   "outputs": [
    {
     "name": "stdout",
     "output_type": "stream",
     "text": [
      "2020-03-27\n"
     ]
    },
    {
     "data": {
      "text/html": [
       "<div>\n",
       "<style scoped>\n",
       "    .dataframe tbody tr th:only-of-type {\n",
       "        vertical-align: middle;\n",
       "    }\n",
       "\n",
       "    .dataframe tbody tr th {\n",
       "        vertical-align: top;\n",
       "    }\n",
       "\n",
       "    .dataframe thead th {\n",
       "        text-align: right;\n",
       "    }\n",
       "</style>\n",
       "<table border=\"1\" class=\"dataframe\">\n",
       "  <thead>\n",
       "    <tr style=\"text-align: right;\">\n",
       "      <th></th>\n",
       "      <th>Total</th>\n",
       "    </tr>\n",
       "    <tr>\n",
       "      <th>index</th>\n",
       "      <th></th>\n",
       "    </tr>\n",
       "  </thead>\n",
       "  <tbody>\n",
       "    <tr>\n",
       "      <td>Total Positives</td>\n",
       "      <td>417</td>\n",
       "    </tr>\n",
       "    <tr>\n",
       "      <td>Age Groups</td>\n",
       "      <td>NaN</td>\n",
       "    </tr>\n",
       "    <tr>\n",
       "      <td>0-9 years</td>\n",
       "      <td>3</td>\n",
       "    </tr>\n",
       "    <tr>\n",
       "      <td>10-19 years</td>\n",
       "      <td>4</td>\n",
       "    </tr>\n",
       "    <tr>\n",
       "      <td>20-29 years</td>\n",
       "      <td>84</td>\n",
       "    </tr>\n",
       "    <tr>\n",
       "      <td>30-39 years</td>\n",
       "      <td>106</td>\n",
       "    </tr>\n",
       "    <tr>\n",
       "      <td>40-49 years</td>\n",
       "      <td>73</td>\n",
       "    </tr>\n",
       "    <tr>\n",
       "      <td>50-59 years</td>\n",
       "      <td>65</td>\n",
       "    </tr>\n",
       "    <tr>\n",
       "      <td>60-69 years</td>\n",
       "      <td>31</td>\n",
       "    </tr>\n",
       "    <tr>\n",
       "      <td>70-79 years</td>\n",
       "      <td>29</td>\n",
       "    </tr>\n",
       "    <tr>\n",
       "      <td>80+ years</td>\n",
       "      <td>20</td>\n",
       "    </tr>\n",
       "    <tr>\n",
       "      <td>Age Unknown</td>\n",
       "      <td>2</td>\n",
       "    </tr>\n",
       "    <tr>\n",
       "      <td>Gender</td>\n",
       "      <td>NaN</td>\n",
       "    </tr>\n",
       "    <tr>\n",
       "      <td>Female</td>\n",
       "      <td>166</td>\n",
       "    </tr>\n",
       "    <tr>\n",
       "      <td>Male</td>\n",
       "      <td>249</td>\n",
       "    </tr>\n",
       "    <tr>\n",
       "      <td>Unknown</td>\n",
       "      <td>2</td>\n",
       "    </tr>\n",
       "    <tr>\n",
       "      <td>Hospitalizations</td>\n",
       "      <td>85</td>\n",
       "    </tr>\n",
       "    <tr>\n",
       "      <td>Intensive Care</td>\n",
       "      <td>38</td>\n",
       "    </tr>\n",
       "    <tr>\n",
       "      <td>Deaths</td>\n",
       "      <td>5</td>\n",
       "    </tr>\n",
       "  </tbody>\n",
       "</table>\n",
       "</div>"
      ],
      "text/plain": [
       "                 Total\n",
       "index                 \n",
       "Total Positives    417\n",
       "Age Groups         NaN\n",
       "0-9 years            3\n",
       "10-19 years          4\n",
       "20-29 years         84\n",
       "30-39 years        106\n",
       "40-49 years         73\n",
       "50-59 years         65\n",
       "60-69 years         31\n",
       "70-79 years         29\n",
       "80+ years           20\n",
       "Age Unknown          2\n",
       "Gender             NaN\n",
       "Female             166\n",
       "Male               249\n",
       "Unknown              2\n",
       "Hospitalizations    85\n",
       "Intensive Care      38\n",
       "Deaths               5"
      ]
     },
     "execution_count": 423,
     "metadata": {},
     "output_type": "execute_result"
    }
   ],
   "source": [
    "# OK, this is weird, starting 26 March the Total and non-county residents columns disappeared\n",
    "# and everythign is under San Diego County Residents, even though I believe that is actually the Total column\n",
    "# if i'm wrong this generates a discontinuity of 20 non-resident cases, making the growth from 25 - 26 March look\n",
    "# smaller than it is, it will lead to an underestimate of the exponential coefficient\n",
    "table.columns=['Total']\n",
    "\n",
    "# record todays data for posterity\n",
    "table.to_csv(dataf.format(today))\n",
    "tab_hist[today] = table\n",
    "print(today)\n",
    "table"
   ]
  },
  {
   "cell_type": "code",
   "execution_count": 424,
   "metadata": {},
   "outputs": [],
   "source": [
    "cases = pd.Series({key:int(value.loc['Total Positives','Total']) for key,value in tab_hist.items()}).sort_index()\n",
    "hospitalizations = pd.Series({key:int(value.loc['Hospitalizations','Total']) for key,value in tab_hist.items()}).sort_index()\n",
    "icu = pd.Series({key:int(value.loc['Intensive Care','Total']) for key,value in tab_hist.items()}).sort_index()\n",
    "deaths = pd.Series({key:int(value.loc['Deaths','Total']) for key,value in tab_hist.items()}).sort_index()\n",
    "totals = pd.DataFrame( {'Confirmed cases':cases, 'Hospitalizations':hospitalizations, 'ICU patients':icu, 'Deaths':deaths})"
   ]
  },
  {
   "cell_type": "code",
   "execution_count": 425,
   "metadata": {},
   "outputs": [],
   "source": [
    "sns.set_style('darkgrid')\n",
    "colors = sns.color_palette()\n",
    "import matplotlib.pyplot as plt"
   ]
  },
  {
   "cell_type": "code",
   "execution_count": 426,
   "metadata": {},
   "outputs": [
    {
     "data": {
      "image/png": "[encoded data removed]",
      "text/plain": [
       "<Figure size 576x720 with 4 Axes>"
      ]
     },
     "metadata": {},
     "output_type": "display_data"
    }
   ],
   "source": [
    "totals.plot(subplots=True,sharex=True,figsize=(8,10));"
   ]
  },
  {
   "cell_type": "code",
   "execution_count": 429,
   "metadata": {},
   "outputs": [
    {
     "data": {
      "image/png": "[encoded data removed]",
      "text/plain": [
       "<Figure size 720x576 with 4 Axes>"
      ]
     },
     "metadata": {},
     "output_type": "display_data"
    }
   ],
   "source": [
    "fig, ( (ax1,ax2), (ax3,ax4)) = plt.subplots(2, 2, sharex=True, figsize=(10,8))\n",
    "# I really hope I never have to add the argument logy=True to the plots\n",
    "cases.plot(title='Confirmed cases', color=colors[0], ax=ax1); \n",
    "hospitalizations.plot(title='Hospitalizations', color=colors[6], ax=ax2);\n",
    "icu.plot(title='ICU patients', color=colors[1], ax=ax3);\n",
    "deaths.plot(title='Deaths', color=colors[3], ax=ax4);\n",
    "for ax in fig.axes:\n",
    "    plt.sca(ax)\n",
    "    plt.xticks(rotation=60)\n",
    "plt.suptitle('San Diego county COVID-19 status');"
   ]
  },
  {
   "cell_type": "code",
   "execution_count": 430,
   "metadata": {},
   "outputs": [],
   "source": [
    "from scipy.optimize import curve_fit\n",
    "\n",
    "def exfunc(x, a, b):\n",
    "    return a * np.exp(b * x) \n",
    "    \n",
    "def estimate_doubling_time(data):\n",
    "    pest, pcov = curve_fit(exfunc, range(len(data)), data)\n",
    "    doubling_time = np.log(2)/pest[1]\n",
    "    ci95 = 1.96 * np.sqrt(pcov[1][1])\n",
    "    \n",
    "    return(doubling_time, ci95, pest, pcov)\n",
    "\n",
    "def days_to_value(pest, y):\n",
    "    '''\n",
    "    pest = [a, b]\n",
    "    y = a * exp( b * x )\n",
    "    ln(y) - ln(a) = b * x\n",
    "    x = ( ln(y) - ln(a) ) / b\n",
    "    '''\n",
    "    return (np.log(y) - np.log(pest[0]))/pest[1]\n",
    "\n"
   ]
  },
  {
   "cell_type": "code",
   "execution_count": 431,
   "metadata": {},
   "outputs": [
    {
     "name": "stdout",
     "output_type": "stream",
     "text": [
      "Estimating doubling time on confirmed cases data from 2020-03-19 to 2020-03-27\n",
      "Max likelihood estimate: 4.380 days\n",
      "95% confidence interval: 4.366 - 4.393 days\n"
     ]
    }
   ],
   "source": [
    "doubling_time, ci95, case_p_est, case_p_cov  = estimate_doubling_time(cases)\n",
    "print('Estimating doubling time on confirmed cases data from 2020-03-19 to {}'.format(today))\n",
    "print('Max likelihood estimate: {:4.3f} days'.format(doubling_time))\n",
    "print('95% confidence interval: {:4.3f} - {:4.3f} days'.format(doubling_time-ci95, doubling_time+ci95))"
   ]
  },
  {
   "cell_type": "code",
   "execution_count": 432,
   "metadata": {},
   "outputs": [
    {
     "name": "stdout",
     "output_type": "stream",
     "text": [
      "Estimating doubling time on hospitalizations data from 2020-03-19 to 2020-03-27\n",
      "Max likelihood estimate: 3.916 days\n",
      "95% confidence interval: 3.885 - 3.947 days\n",
      "[20.26824102  0.17699797]\n"
     ]
    }
   ],
   "source": [
    "doubling_time, ci95, hosp_p_est, hosp_p_cov = estimate_doubling_time(hospitalizations)\n",
    "print('Estimating doubling time on hospitalizations data from 2020-03-19 to {}'.format(today))\n",
    "print('Max likelihood estimate: {:4.3f} days'.format(doubling_time))\n",
    "print('95% confidence interval: {:4.3f} - {:4.3f} days'.format(doubling_time-ci95, doubling_time+ci95))\n",
    "print(hosp_p_est)"
   ]
  },
  {
   "cell_type": "code",
   "execution_count": 433,
   "metadata": {},
   "outputs": [
    {
     "name": "stdout",
     "output_type": "stream",
     "text": [
      "Estimating doubling time on hospitalizations data from 2020-03-21 (first day ICU beds recorded) to 2020-03-27\n",
      "Max likelihood estimate: 3.794 days\n",
      "95% confidence interval: 3.772 - 3.816 days\n"
     ]
    }
   ],
   "source": [
    "doubling_time, ci95, icu_p_est, icu_p_cov = estimate_doubling_time(icu['2020-03-21':])\n",
    "print('Estimating doubling time on hospitalizations data from 2020-03-21 (first day ICU beds recorded) to {}'.format(today))\n",
    "print('Max likelihood estimate: {:4.3f} days'.format(doubling_time))\n",
    "print('95% confidence interval: {:4.3f} - {:4.3f} days'.format(doubling_time-ci95, doubling_time+ci95))"
   ]
  },
  {
   "cell_type": "markdown",
   "metadata": {},
   "source": [
    "# The number of available hospital beds\n",
    "\"As of 2018, San Diego had 6,180 total hospital beds. Of those, about 68% were occupied at any given time. That leaves 1,950 beds, including 800 intensive care unit beds, available for new patients.\" - https://www.kpbs.org/news/2020/mar/20/data-suggests-san-diego-hospitals-will-be-overfill/"
   ]
  },
  {
   "cell_type": "code",
   "execution_count": 434,
   "metadata": {},
   "outputs": [
    {
     "name": "stdout",
     "output_type": "stream",
     "text": [
      "Hospitals reach capacity on 2020-04-13 19:11:51.164603668\n",
      "ICUs reach capacity on 2020-04-12 15:35:56.263986172\n"
     ]
    }
   ],
   "source": [
    "availbeds = 1950\n",
    "availicu = 800\n",
    "\n",
    "hospital_capacity = days_to_value(hosp_p_est,availbeds)\n",
    "#print('{:4.2f} days until hospital capacity reached'.format(hospital_capacity))\n",
    "print('Hospitals reach capacity on {}'.format(pd.Timestamp('2020-03-19') + pd.Timedelta('1 day')*hospital_capacity))\n",
    "\n",
    "icu_capacity = days_to_value(icu_p_est,availicu)\n",
    "#print('{:4.2f} days until ICU capacity reached'.format(icu_capacity))\n",
    "print('ICUs reach capacity on {}'.format(pd.Timestamp('2020-03-21') + pd.Timedelta('1 day')*icu_capacity))\n",
    "\n"
   ]
  },
  {
   "cell_type": "code",
   "execution_count": 435,
   "metadata": {
    "scrolled": false
   },
   "outputs": [
    {
     "data": {
      "image/png": "[encoded data removed]",
      "text/plain": [
       "<Figure size 720x360 with 1 Axes>"
      ]
     },
     "metadata": {},
     "output_type": "display_data"
    }
   ],
   "source": [
    "projcases = pd.DataFrame(exfunc(range(0,30),case_p_est[0],case_p_est[1]),\n",
    "                        index=pd.date_range(start='2020-03-19',periods=30)\n",
    "                        ).astype(int)\n",
    "projhosp = pd.DataFrame(exfunc(range(0,30),hosp_p_est[0],hosp_p_est[1]),\n",
    "                        index=pd.date_range(start='2020-03-19',periods=30)\n",
    "                        ).astype(int)\n",
    "projicu = pd.DataFrame(exfunc(range(0,28),icu_p_est[0],icu_p_est[1]),\n",
    "                        index=pd.date_range(start='2020-03-21',periods=28)\n",
    "                        ).astype(int)\n",
    "\n",
    "projcases.columns = ['Confirmed cases']\n",
    "projhosp.columns = ['Hospitalized']\n",
    "projicu.columns = ['in ICU beds']\n",
    "\n",
    "projected = pd.merge(projcases,projhosp,left_index=True,right_index=True,how='outer')\n",
    "#projected = pd.merge(projected,projicu,left_index=True,right_index=True,how='outer')\n",
    "\n",
    "fig, ax = plt.subplots(figsize=(10, 5))\n",
    "projected.plot(title='Projected COVID-19 outbreak in San Diego county',ax=ax);\n",
    "plt.ylabel('Number of people projected to be...');\n",
    "plt.axhline(y=availbeds,linestyle=':',color='k');\n",
    "plt.axvline(x=ax.get_xbound()[0] + hospital_capacity, linestyle=':', color='k');\n",
    "ax.annotate('Hospital free bed capacity',\n",
    "            xy=(ax.get_xbound()[0]+2, 2200), xycoords='data', fontsize=10);"
   ]
  },
  {
   "cell_type": "markdown",
   "metadata": {},
   "source": [
    "# but all this might be moot...\n",
    "because I ran this by two people who actually know stuff, unlike me.\n",
    "\n",
    "My summary: Hospitals could be stressed and not dealing well with the infected as soon as they have a couple of patients.  They will then adjust and just make-do as best they can, shutting down services, moving resources from here to there as much as they can.  These decisions will be made differently by each hospital so there's really no way to predict hospital capacity.  \n",
    "\n",
    "Perhaps you can see my capacity limit as an upper limit... that is the hospital system in San Diego will likely be in crisis well before my estimate of **April 13th**\n",
    "\n",
    "To read the actual exchange, see below\n",
    "\n",
    "--Jason\n",
    "\n",
    "\n",
    "\n",
    "Gerald Pao, an MD/PhD who's worked in virology... \n",
    "\n",
    ">Although this is a reasonable estimate at face value it does not take into account how a hospital works\n",
    "You cannot have the highly contagious population in the same space as the rest of the patients who are there for other reasons.\n",
    "So you need to ask how many barrier nursing negative pressure beds does the hospital have?\n",
    "The answer is for any normal hospital the number of beds is between 5-10\n",
    "I have asked my friends in CA  from the Bay area, LA and SD and no one has given me a number higher than 10\n",
    "This means people will have to designate hospital wings to this task and somehow separate things. \n",
    "In places in Spain and Italy they sometimes designated particular hospitals for this task or had the ER designated for it and rearranged it.\n",
    "In other ones they had particular floors closed off etc.\n",
    "so the real capacity will depend on what the hospital administrators decide to do and will be made in uneven and unpredictable ways as there is no single set of rules on how to manage this.\n",
    "Therefore the pressure on hospitals and when you will be out of capacity will be difficult to estimate. We do not have a national healthcare system as you know so it’s gonna be a a free for all.\n",
    ">\n",
    ">Gerald Pao \n",
    ">\n",
    ">The Salk Institute for Biological Studies\n",
    "\n",
    "\n",
    "Joel Wertheim, a bioinformatician who specializes in the evolution and epidemiology of HIV...  \n",
    "\n",
    ">Hi Jason,\n",
    ">\n",
    ">Interesting  stuff.\n",
    ">\n",
    ">Another point to consider in the general design is the time-lag between all of these states. Most people are not admitted to the hospital for quite some time after infection. If they proceed to the ICU and/or death, that also can take weeks after initial infection/diagnosis. I’m not sure of the proportion of cases in San Diego diagnosed after admittance to the hospital, as opposed to be people who aren't (yet) sick enough to be hospitalized. \n",
    ">\n",
    ">Also, at UC San Diego, negative pressure rooms were originally used for COVID patients (back when we were treating the first patients brought back from China). Now, they are just being used for procedures that would result in high likelihood of spread (i.e., intubation). So the number of beds can change with the severity of the epidemic (as Gerald also mentioned).\n",
    ">\n",
    ">Cheers,\n",
    ">\n",
    ">Joel  \n",
    ">\n",
    ">University of California San Diego\n"
   ]
  },
  {
   "cell_type": "markdown",
   "metadata": {},
   "source": [
    "# **BREAKING NEWS**\n",
    "# Here is a better resource on this topic than my model….  It projects bed, ICU, and ventilator usage for US and all 50 states separately \n",
    "\n",
    "Interactive visualization\n",
    "https://covid19.healthdata.org/projections\n",
    "\n",
    "Arxiv paper:\n",
    "http://www.healthdata.org/sites/default/files/files/research_articles/2020/covid_paper_MEDRXIV-2020-043752v1-Murray.pdf\n",
    "\n",
    "For posterity and to compare the outcome with the projections, I'm putting screen shots of this model's predictions for USA and CA into this notebook (collected on the evening of March 26 2020).  Particularly I'm interested in teh 95% confidecne interval values and comparing the results in July with what these models were saying now\n"
   ]
  },
  {
   "cell_type": "markdown",
   "metadata": {},
   "source": [
    "![USA prediction hospitalizations](USA-prediction-hospital.png \"USA prediction hospitalizations\")"
   ]
  },
  {
   "cell_type": "markdown",
   "metadata": {},
   "source": [
    "![USA prediction deaths](USA-prediction-deaths.png \"USA prediction deaths\")"
   ]
  },
  {
   "cell_type": "markdown",
   "metadata": {},
   "source": [
    "![CA prediction hospitalizations](CA-prediction-hospital.png \"USA prediction hospitalizations\")"
   ]
  },
  {
   "cell_type": "markdown",
   "metadata": {},
   "source": [
    "![CA prediction deaths](CA-prediction-deaths.png \"CA prediction deaths\")"
   ]
  },
  {
   "cell_type": "markdown",
   "metadata": {},
   "source": [
    "### Below this is just some stuff I started to scrape the location data... \n",
    "But TBH I now think this is useless... there's no way the location of infection is useful except as a proxy for which hospitals are most burdened.\n",
    "\n",
    "Certainly you wouldn't want to say something like \"Oh this is were you can catch the virus the best...\" That's some BS because there is 1) unknown infected people out there and 2) the location is probably where someone went to hospital, not where they live or work "
   ]
  },
  {
   "cell_type": "code",
   "execution_count": 410,
   "metadata": {},
   "outputs": [],
   "source": [
    "# these column locations are hand tuned \n",
    "locations = read_pdf('https://www.sandiegocounty.gov/content/dam/sdc/hhsa/programs/phs/Epidemiology/COVID-19%20Daily%20Update_City%20of%20Residence.pdf', options=\"--columns 250.0,375.0\", guess=False)"
   ]
  },
  {
   "cell_type": "code",
   "execution_count": 412,
   "metadata": {},
   "outputs": [],
   "source": [
    "# because I'm not parsing the date out of the pdf, you should manually make sure this has been updated too before scraping!\n",
    "# 3/25 version\n",
    "'''locations = locations.set_index('County of San Diego')\n",
    "locations = locations['San Diego County':'OVERALL TOTAL'].dropna()\n",
    "locations.columns = locations.loc['San Diego County',:]\n",
    "locations = locations.drop('San Diego County')\n",
    "locations.to_csv(locf.format(today))\n",
    "print(today)\n",
    "locations'''\n",
    "None;"
   ]
  },
  {
   "cell_type": "code",
   "execution_count": 413,
   "metadata": {},
   "outputs": [
    {
     "name": "stdout",
     "output_type": "stream",
     "text": [
      "2020-03-26\n"
     ]
    },
    {
     "data": {
      "text/html": [
       "<div>\n",
       "<style scoped>\n",
       "    .dataframe tbody tr th:only-of-type {\n",
       "        vertical-align: middle;\n",
       "    }\n",
       "\n",
       "    .dataframe tbody tr th {\n",
       "        vertical-align: top;\n",
       "    }\n",
       "\n",
       "    .dataframe thead th {\n",
       "        text-align: right;\n",
       "    }\n",
       "</style>\n",
       "<table border=\"1\" class=\"dataframe\">\n",
       "  <thead>\n",
       "    <tr style=\"text-align: right;\">\n",
       "      <th>San Diego County</th>\n",
       "      <th>Count</th>\n",
       "      <th>Percentage** of Overall Total</th>\n",
       "    </tr>\n",
       "    <tr>\n",
       "      <th>County of San Diego</th>\n",
       "      <th></th>\n",
       "      <th></th>\n",
       "    </tr>\n",
       "  </thead>\n",
       "  <tbody>\n",
       "    <tr>\n",
       "      <td>Incorporated City</td>\n",
       "      <td>313</td>\n",
       "      <td>91.8%</td>\n",
       "    </tr>\n",
       "    <tr>\n",
       "      <td>Carlsbad</td>\n",
       "      <td>15</td>\n",
       "      <td>4.4%</td>\n",
       "    </tr>\n",
       "    <tr>\n",
       "      <td>Chula Vista</td>\n",
       "      <td>17</td>\n",
       "      <td>5.0%</td>\n",
       "    </tr>\n",
       "    <tr>\n",
       "      <td>Del Mar</td>\n",
       "      <td>5</td>\n",
       "      <td>1.5%</td>\n",
       "    </tr>\n",
       "    <tr>\n",
       "      <td>El Cajon</td>\n",
       "      <td>19</td>\n",
       "      <td>5.6%</td>\n",
       "    </tr>\n",
       "    <tr>\n",
       "      <td>Encinitas</td>\n",
       "      <td>12</td>\n",
       "      <td>3.5%</td>\n",
       "    </tr>\n",
       "    <tr>\n",
       "      <td>Escondido</td>\n",
       "      <td>7</td>\n",
       "      <td>2.1%</td>\n",
       "    </tr>\n",
       "    <tr>\n",
       "      <td>La Mesa</td>\n",
       "      <td>1</td>\n",
       "      <td>0.3%</td>\n",
       "    </tr>\n",
       "    <tr>\n",
       "      <td>Lemon Grove</td>\n",
       "      <td>1</td>\n",
       "      <td>0.3%</td>\n",
       "    </tr>\n",
       "    <tr>\n",
       "      <td>National City</td>\n",
       "      <td>6</td>\n",
       "      <td>1.8%</td>\n",
       "    </tr>\n",
       "    <tr>\n",
       "      <td>Oceanside</td>\n",
       "      <td>8</td>\n",
       "      <td>2.3%</td>\n",
       "    </tr>\n",
       "    <tr>\n",
       "      <td>Poway</td>\n",
       "      <td>4</td>\n",
       "      <td>1.2%</td>\n",
       "    </tr>\n",
       "    <tr>\n",
       "      <td>San Diego</td>\n",
       "      <td>207</td>\n",
       "      <td>60.7%</td>\n",
       "    </tr>\n",
       "    <tr>\n",
       "      <td>San Marcos</td>\n",
       "      <td>3</td>\n",
       "      <td>0.9%</td>\n",
       "    </tr>\n",
       "    <tr>\n",
       "      <td>Santee</td>\n",
       "      <td>2</td>\n",
       "      <td>0.6%</td>\n",
       "    </tr>\n",
       "    <tr>\n",
       "      <td>Solana Beach</td>\n",
       "      <td>1</td>\n",
       "      <td>0.3%</td>\n",
       "    </tr>\n",
       "    <tr>\n",
       "      <td>Vista</td>\n",
       "      <td>5</td>\n",
       "      <td>1.5%</td>\n",
       "    </tr>\n",
       "    <tr>\n",
       "      <td>Unincorporated</td>\n",
       "      <td>16</td>\n",
       "      <td>4.7%</td>\n",
       "    </tr>\n",
       "    <tr>\n",
       "      <td>Bonita</td>\n",
       "      <td>1</td>\n",
       "      <td>0.3%</td>\n",
       "    </tr>\n",
       "    <tr>\n",
       "      <td>Fallbrook</td>\n",
       "      <td>2</td>\n",
       "      <td>0.6%</td>\n",
       "    </tr>\n",
       "    <tr>\n",
       "      <td>Lakeside</td>\n",
       "      <td>2</td>\n",
       "      <td>0.6%</td>\n",
       "    </tr>\n",
       "    <tr>\n",
       "      <td>Ramona</td>\n",
       "      <td>2</td>\n",
       "      <td>0.6%</td>\n",
       "    </tr>\n",
       "    <tr>\n",
       "      <td>Rancho Santa Fe</td>\n",
       "      <td>5</td>\n",
       "      <td>1.5%</td>\n",
       "    </tr>\n",
       "    <tr>\n",
       "      <td>Spring Valley</td>\n",
       "      <td>4</td>\n",
       "      <td>1.2%</td>\n",
       "    </tr>\n",
       "    <tr>\n",
       "      <td>Unknown*</td>\n",
       "      <td>12</td>\n",
       "      <td>3.5%</td>\n",
       "    </tr>\n",
       "    <tr>\n",
       "      <td>Total San Diego County Residents</td>\n",
       "      <td>341</td>\n",
       "      <td>100.0%</td>\n",
       "    </tr>\n",
       "  </tbody>\n",
       "</table>\n",
       "</div>"
      ],
      "text/plain": [
       "San Diego County                 Count Percentage** of Overall Total\n",
       "County of San Diego                                                 \n",
       "Incorporated City                  313                         91.8%\n",
       "Carlsbad                            15                          4.4%\n",
       "Chula Vista                         17                          5.0%\n",
       "Del Mar                              5                          1.5%\n",
       "El Cajon                            19                          5.6%\n",
       "Encinitas                           12                          3.5%\n",
       "Escondido                            7                          2.1%\n",
       "La Mesa                              1                          0.3%\n",
       "Lemon Grove                          1                          0.3%\n",
       "National City                        6                          1.8%\n",
       "Oceanside                            8                          2.3%\n",
       "Poway                                4                          1.2%\n",
       "San Diego                          207                         60.7%\n",
       "San Marcos                           3                          0.9%\n",
       "Santee                               2                          0.6%\n",
       "Solana Beach                         1                          0.3%\n",
       "Vista                                5                          1.5%\n",
       "Unincorporated                      16                          4.7%\n",
       "Bonita                               1                          0.3%\n",
       "Fallbrook                            2                          0.6%\n",
       "Lakeside                             2                          0.6%\n",
       "Ramona                               2                          0.6%\n",
       "Rancho Santa Fe                      5                          1.5%\n",
       "Spring Valley                        4                          1.2%\n",
       "Unknown*                            12                          3.5%\n",
       "Total San Diego County Residents   341                        100.0%"
      ]
     },
     "execution_count": 413,
     "metadata": {},
     "output_type": "execute_result"
    }
   ],
   "source": [
    "# because I'm not parsing the date out of the pdf, you should manually make sure this has been updated too before scraping!\n",
    "# 3/26 version\n",
    "locations = locations.set_index('County of San Diego')\n",
    "locations = locations['San Diego County':'Total San Diego County Residents'].dropna()\n",
    "locations.columns = locations.loc['San Diego County',:]\n",
    "locations = locations.drop('San Diego County')\n",
    "locations.to_csv(locf.format(today))\n",
    "print(today)\n",
    "locations"
   ]
  },
  {
   "cell_type": "code",
   "execution_count": null,
   "metadata": {},
   "outputs": [],
   "source": []
  }
 ],
 "metadata": {
  "kernelspec": {
   "display_name": "Python 3",
   "language": "python",
   "name": "python3"
  },
  "language_info": {
   "codemirror_mode": {
    "name": "ipython",
    "version": 3
   },
   "file_extension": ".py",
   "mimetype": "text/x-python",
   "name": "python",
   "nbconvert_exporter": "python",
   "pygments_lexer": "ipython3",
   "version": "3.7.4"
  }
 },
 "nbformat": 4,
 "nbformat_minor": 2
}
